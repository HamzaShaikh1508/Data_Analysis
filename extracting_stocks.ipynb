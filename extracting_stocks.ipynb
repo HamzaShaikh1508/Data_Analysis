{
 "cells": [
  {
   "cell_type": "code",
   "execution_count": 4,
   "id": "1d7c6c8a",
   "metadata": {},
   "outputs": [
    {
     "name": "stdout",
     "output_type": "stream",
     "text": [
      "Requirement already satisfied: yfinance==0.1.67 in c:\\users\\hamza_sk\\anaconda3\\lib\\site-packages (0.1.67)\n",
      "Requirement already satisfied: lxml>=4.5.1 in c:\\users\\hamza_sk\\anaconda3\\lib\\site-packages (from yfinance==0.1.67) (4.6.3)\n",
      "Requirement already satisfied: pandas>=0.24 in c:\\users\\hamza_sk\\anaconda3\\lib\\site-packages (from yfinance==0.1.67) (1.2.4)\n",
      "Requirement already satisfied: numpy>=1.15 in c:\\users\\hamza_sk\\anaconda3\\lib\\site-packages (from yfinance==0.1.67) (1.20.1)\n",
      "Requirement already satisfied: multitasking>=0.0.7 in c:\\users\\hamza_sk\\anaconda3\\lib\\site-packages (from yfinance==0.1.67) (0.0.11)\n",
      "Requirement already satisfied: requests>=2.20 in c:\\users\\hamza_sk\\anaconda3\\lib\\site-packages (from yfinance==0.1.67) (2.25.1)\n",
      "Requirement already satisfied: pytz>=2017.3 in c:\\users\\hamza_sk\\anaconda3\\lib\\site-packages (from pandas>=0.24->yfinance==0.1.67) (2021.1)\n",
      "Requirement already satisfied: python-dateutil>=2.7.3 in c:\\users\\hamza_sk\\anaconda3\\lib\\site-packages (from pandas>=0.24->yfinance==0.1.67) (2.8.1)\n",
      "Requirement already satisfied: six>=1.5 in c:\\users\\hamza_sk\\anaconda3\\lib\\site-packages (from python-dateutil>=2.7.3->pandas>=0.24->yfinance==0.1.67) (1.15.0)\n",
      "Requirement already satisfied: certifi>=2017.4.17 in c:\\users\\hamza_sk\\anaconda3\\lib\\site-packages (from requests>=2.20->yfinance==0.1.67) (2020.12.5)\n",
      "Requirement already satisfied: urllib3<1.27,>=1.21.1 in c:\\users\\hamza_sk\\anaconda3\\lib\\site-packages (from requests>=2.20->yfinance==0.1.67) (1.26.4)\n",
      "Requirement already satisfied: idna<3,>=2.5 in c:\\users\\hamza_sk\\anaconda3\\lib\\site-packages (from requests>=2.20->yfinance==0.1.67) (2.10)\n",
      "Requirement already satisfied: chardet<5,>=3.0.2 in c:\\users\\hamza_sk\\anaconda3\\lib\\site-packages (from requests>=2.20->yfinance==0.1.67) (4.0.0)\n"
     ]
    }
   ],
   "source": [
    "!pip install yfinance==0.1.67"
   ]
  },
  {
   "cell_type": "code",
   "execution_count": 5,
   "id": "1a2357c8",
   "metadata": {},
   "outputs": [],
   "source": [
    "import yfinance as yf\n",
    "import pandas as pd"
   ]
  },
  {
   "cell_type": "markdown",
   "id": "2032cb79",
   "metadata": {},
   "source": [
    "# Using the yfinance Library to Extract Stock Data"
   ]
  },
  {
   "cell_type": "markdown",
   "id": "4ec273b5",
   "metadata": {},
   "source": [
    "Using the `Ticker` module we can create an object that will allow us to access functions to extract data. To do this we need to provide the ticker symbol for the stock, here the company is Apple and the ticker symbol is `AAPL`."
   ]
  },
  {
   "cell_type": "code",
   "execution_count": 6,
   "id": "43ca9ad4",
   "metadata": {},
   "outputs": [],
   "source": [
    "apple = yf.Ticker(\"AAPL\")"
   ]
  },
  {
   "cell_type": "markdown",
   "id": "40ede0e3",
   "metadata": {},
   "source": [
    "Now we can access functions and variables to extract the type of data we need. You can view them and what they represent here https://aroussi.com/post/python-yahoo-finance."
   ]
  },
  {
   "cell_type": "markdown",
   "id": "b1fed75d",
   "metadata": {},
   "source": [
    "# Stock info"
   ]
  },
  {
   "cell_type": "markdown",
   "id": "ab7f7a8a",
   "metadata": {},
   "source": [
    "Using the attribute info we can extract information about the stock as a Python dictionary."
   ]
  },
  {
   "cell_type": "code",
   "execution_count": 8,
   "id": "64bf07a3",
   "metadata": {},
   "outputs": [
    {
     "data": {
      "text/plain": [
       "{'zip': '95014',\n",
       " 'sector': 'Technology',\n",
       " 'fullTimeEmployees': 164000,\n",
       " 'longBusinessSummary': 'Apple Inc. designs, manufactures, and markets smartphones, personal computers, tablets, wearables, and accessories worldwide. It also sells various related services. In addition, the company offers iPhone, a line of smartphones; Mac, a line of personal computers; iPad, a line of multi-purpose tablets; and wearables, home, and accessories comprising AirPods, Apple TV, Apple Watch, Beats products, and HomePod. Further, it provides AppleCare support and cloud services store services; and operates various platforms, including the App Store that allow customers to discover and download applications and digital content, such as books, music, video, games, and podcasts. Additionally, the company offers various services, such as Apple Arcade, a game subscription service; Apple Fitness+, a personalized fitness service; Apple Music, which offers users a curated listening experience with on-demand radio stations; Apple News+, a subscription news and magazine service; Apple TV+, which offers exclusive original content; Apple Card, a co-branded credit card; and Apple Pay, a cashless payment service, as well as licenses its intellectual property. The company serves consumers, and small and mid-sized businesses; and the education, enterprise, and government markets. It distributes third-party applications for its products through the App Store. The company also sells its products through its retail and online stores, and direct sales force; and third-party cellular network carriers, wholesalers, retailers, and resellers. Apple Inc. was incorporated in 1977 and is headquartered in Cupertino, California.',\n",
       " 'city': 'Cupertino',\n",
       " 'phone': '408 996 1010',\n",
       " 'state': 'CA',\n",
       " 'country': 'United States',\n",
       " 'companyOfficers': [],\n",
       " 'website': 'https://www.apple.com',\n",
       " 'maxAge': 1,\n",
       " 'address1': 'One Apple Park Way',\n",
       " 'industry': 'Consumer Electronics',\n",
       " 'ebitdaMargins': 0.33105,\n",
       " 'profitMargins': 0.2531,\n",
       " 'grossMargins': 0.43310001,\n",
       " 'operatingCashflow': 122151002112,\n",
       " 'revenueGrowth': 0.081,\n",
       " 'operatingMargins': 0.30289,\n",
       " 'ebitda': 130541002752,\n",
       " 'targetLowPrice': 122,\n",
       " 'recommendationKey': 'buy',\n",
       " 'grossProfits': 170782000000,\n",
       " 'freeCashflow': 90215251968,\n",
       " 'targetMedianPrice': 178.5,\n",
       " 'currentPrice': 149.7,\n",
       " 'earningsGrowth': 0.048,\n",
       " 'currentRatio': 0.879,\n",
       " 'returnOnAssets': 0.21214001,\n",
       " 'numberOfAnalystOpinions': 40,\n",
       " 'targetMeanPrice': 177.61,\n",
       " 'debtToEquity': 261.446,\n",
       " 'returnOnEquity': 1.75459,\n",
       " 'targetHighPrice': 214,\n",
       " 'totalCash': 48304001024,\n",
       " 'totalDebt': 132480000000,\n",
       " 'totalRevenue': 394328014848,\n",
       " 'totalCashPerShare': 3.036,\n",
       " 'financialCurrency': 'USD',\n",
       " 'revenuePerShare': 24.317,\n",
       " 'quickRatio': 0.709,\n",
       " 'recommendationMean': 1.9,\n",
       " 'exchange': 'NMS',\n",
       " 'shortName': 'Apple Inc.',\n",
       " 'longName': 'Apple Inc.',\n",
       " 'exchangeTimezoneName': 'America/New_York',\n",
       " 'exchangeTimezoneShortName': 'EST',\n",
       " 'isEsgPopulated': False,\n",
       " 'gmtOffSetMilliseconds': '-18000000',\n",
       " 'quoteType': 'EQUITY',\n",
       " 'symbol': 'AAPL',\n",
       " 'messageBoardId': 'finmb_24937',\n",
       " 'market': 'us_market',\n",
       " 'annualHoldingsTurnover': None,\n",
       " 'enterpriseToRevenue': 6.253,\n",
       " 'beta3Year': None,\n",
       " 'enterpriseToEbitda': 18.888,\n",
       " '52WeekChange': -0.0019999743,\n",
       " 'morningStarRiskRating': None,\n",
       " 'forwardEps': 6.81,\n",
       " 'revenueQuarterlyGrowth': None,\n",
       " 'sharesOutstanding': 15908100096,\n",
       " 'fundInceptionDate': None,\n",
       " 'annualReportExpenseRatio': None,\n",
       " 'totalAssets': None,\n",
       " 'bookValue': 3.178,\n",
       " 'sharesShort': 103178670,\n",
       " 'sharesPercentSharesOut': 0.0064999997,\n",
       " 'fundFamily': None,\n",
       " 'lastFiscalYearEnd': 1663977600,\n",
       " 'heldPercentInstitutions': 0.60247004,\n",
       " 'netIncomeToCommon': 99802996736,\n",
       " 'trailingEps': 6.11,\n",
       " 'lastDividendValue': 0.23,\n",
       " 'SandP52WeekChange': -0.14731997,\n",
       " 'priceToBook': 47.1051,\n",
       " 'heldPercentInsiders': 0.00072999997,\n",
       " 'nextFiscalYearEnd': 1727136000,\n",
       " 'yield': None,\n",
       " 'mostRecentQuarter': 1663977600,\n",
       " 'shortRatio': 1.14,\n",
       " 'sharesShortPreviousMonthDate': 1664496000,\n",
       " 'floatShares': 15891414476,\n",
       " 'beta': 1.246644,\n",
       " 'enterpriseValue': 2465621344256,\n",
       " 'priceHint': 2,\n",
       " 'threeYearAverageReturn': None,\n",
       " 'lastSplitDate': 1598832000,\n",
       " 'lastSplitFactor': '4:1',\n",
       " 'legalType': None,\n",
       " 'lastDividendDate': 1667520000,\n",
       " 'morningStarOverallRating': None,\n",
       " 'earningsQuarterlyGrowth': 0.008,\n",
       " 'priceToSalesTrailing12Months': 6.0392423,\n",
       " 'dateShortInterest': 1667174400,\n",
       " 'pegRatio': 2.64,\n",
       " 'ytdReturn': None,\n",
       " 'forwardPE': 21.982378,\n",
       " 'lastCapGain': None,\n",
       " 'shortPercentOfFloat': 0.0064999997,\n",
       " 'sharesShortPriorMonth': 103251184,\n",
       " 'impliedSharesOutstanding': 0,\n",
       " 'category': None,\n",
       " 'fiveYearAverageReturn': None,\n",
       " 'previousClose': 146.87,\n",
       " 'regularMarketOpen': 145.82,\n",
       " 'twoHundredDayAverage': 155.6808,\n",
       " 'trailingAnnualDividendYield': 0.0061278683,\n",
       " 'payoutRatio': 0.14729999,\n",
       " 'volume24Hr': None,\n",
       " 'regularMarketDayHigh': 150.01,\n",
       " 'navPrice': None,\n",
       " 'averageDailyVolume10Day': 97152100,\n",
       " 'regularMarketPreviousClose': 146.87,\n",
       " 'fiftyDayAverage': 147.6636,\n",
       " 'trailingAnnualDividendRate': 0.9,\n",
       " 'open': 145.82,\n",
       " 'toCurrency': None,\n",
       " 'averageVolume10days': 97152100,\n",
       " 'expireDate': None,\n",
       " 'algorithm': None,\n",
       " 'dividendRate': 0.92,\n",
       " 'exDividendDate': 1667520000,\n",
       " 'circulatingSupply': None,\n",
       " 'startDate': None,\n",
       " 'regularMarketDayLow': 144.38,\n",
       " 'currency': 'USD',\n",
       " 'trailingPE': 24.500816,\n",
       " 'regularMarketVolume': 93979665,\n",
       " 'lastMarket': None,\n",
       " 'maxSupply': None,\n",
       " 'openInterest': None,\n",
       " 'marketCap': 2381442449408,\n",
       " 'volumeAllCurrencies': None,\n",
       " 'strikePrice': None,\n",
       " 'averageVolume': 88992084,\n",
       " 'dayLow': 144.38,\n",
       " 'ask': 149.44,\n",
       " 'askSize': 1300,\n",
       " 'volume': 93979665,\n",
       " 'fiftyTwoWeekHigh': 182.94,\n",
       " 'fromCurrency': None,\n",
       " 'fiveYearAvgDividendYield': 1,\n",
       " 'fiftyTwoWeekLow': 129.04,\n",
       " 'bid': 149.4,\n",
       " 'tradeable': False,\n",
       " 'dividendYield': 0.0061000003,\n",
       " 'bidSize': 800,\n",
       " 'dayHigh': 150.01,\n",
       " 'coinMarketCapLink': None,\n",
       " 'regularMarketPrice': 149.7,\n",
       " 'preMarketPrice': None,\n",
       " 'logo_url': 'https://logo.clearbit.com/apple.com'}"
      ]
     },
     "execution_count": 8,
     "metadata": {},
     "output_type": "execute_result"
    }
   ],
   "source": [
    "apple_info=apple.info\n",
    "apple_info"
   ]
  },
  {
   "cell_type": "code",
   "execution_count": 10,
   "id": "8d3cf9ca",
   "metadata": {},
   "outputs": [
    {
     "data": {
      "text/plain": [
       "'United States'"
      ]
     },
     "execution_count": 10,
     "metadata": {},
     "output_type": "execute_result"
    }
   ],
   "source": [
    "apple_info['country']"
   ]
  },
  {
   "cell_type": "markdown",
   "id": "5ee8e89a",
   "metadata": {},
   "source": [
    "# Extracting Stock prices"
   ]
  },
  {
   "cell_type": "markdown",
   "id": "dadde654",
   "metadata": {},
   "source": [
    "A share is the single smallest part of a company's stock that you can buy, the prices of these shares fluctuate over time. Using the history() method we can get the share price of the stock over a certain period of time. Using the period parameter we can set how far back from the present to get data. The options for period are 1 day (1d), 5d, 1 month (1mo) , 3mo, 6mo, 1 year (1y), 2y, 5y, 10y, ytd, and max."
   ]
  },
  {
   "cell_type": "code",
   "execution_count": 11,
   "id": "9527c1b4",
   "metadata": {},
   "outputs": [],
   "source": [
    "apple_shares_history_data = apple.history(period = 'max')"
   ]
  },
  {
   "cell_type": "markdown",
   "id": "5c06028b",
   "metadata": {},
   "source": [
    "The format that the data is returned in is a Pandas DataFrame. With the Date as the index the share Open, High, Low, Close, Volume, and Stock Splits are given for each day."
   ]
  },
  {
   "cell_type": "code",
   "execution_count": 12,
   "id": "83be36b7",
   "metadata": {},
   "outputs": [
    {
     "data": {
      "text/html": [
       "<div>\n",
       "<style scoped>\n",
       "    .dataframe tbody tr th:only-of-type {\n",
       "        vertical-align: middle;\n",
       "    }\n",
       "\n",
       "    .dataframe tbody tr th {\n",
       "        vertical-align: top;\n",
       "    }\n",
       "\n",
       "    .dataframe thead th {\n",
       "        text-align: right;\n",
       "    }\n",
       "</style>\n",
       "<table border=\"1\" class=\"dataframe\">\n",
       "  <thead>\n",
       "    <tr style=\"text-align: right;\">\n",
       "      <th></th>\n",
       "      <th>Open</th>\n",
       "      <th>High</th>\n",
       "      <th>Low</th>\n",
       "      <th>Close</th>\n",
       "      <th>Volume</th>\n",
       "      <th>Dividends</th>\n",
       "      <th>Stock Splits</th>\n",
       "    </tr>\n",
       "    <tr>\n",
       "      <th>Date</th>\n",
       "      <th></th>\n",
       "      <th></th>\n",
       "      <th></th>\n",
       "      <th></th>\n",
       "      <th></th>\n",
       "      <th></th>\n",
       "      <th></th>\n",
       "    </tr>\n",
       "  </thead>\n",
       "  <tbody>\n",
       "    <tr>\n",
       "      <th>1980-12-12</th>\n",
       "      <td>0.099874</td>\n",
       "      <td>0.100308</td>\n",
       "      <td>0.099874</td>\n",
       "      <td>0.099874</td>\n",
       "      <td>469033600</td>\n",
       "      <td>0.0</td>\n",
       "      <td>0.0</td>\n",
       "    </tr>\n",
       "    <tr>\n",
       "      <th>1980-12-15</th>\n",
       "      <td>0.095098</td>\n",
       "      <td>0.095098</td>\n",
       "      <td>0.094663</td>\n",
       "      <td>0.094663</td>\n",
       "      <td>175884800</td>\n",
       "      <td>0.0</td>\n",
       "      <td>0.0</td>\n",
       "    </tr>\n",
       "    <tr>\n",
       "      <th>1980-12-16</th>\n",
       "      <td>0.088149</td>\n",
       "      <td>0.088149</td>\n",
       "      <td>0.087715</td>\n",
       "      <td>0.087715</td>\n",
       "      <td>105728000</td>\n",
       "      <td>0.0</td>\n",
       "      <td>0.0</td>\n",
       "    </tr>\n",
       "    <tr>\n",
       "      <th>1980-12-17</th>\n",
       "      <td>0.089886</td>\n",
       "      <td>0.090320</td>\n",
       "      <td>0.089886</td>\n",
       "      <td>0.089886</td>\n",
       "      <td>86441600</td>\n",
       "      <td>0.0</td>\n",
       "      <td>0.0</td>\n",
       "    </tr>\n",
       "    <tr>\n",
       "      <th>1980-12-18</th>\n",
       "      <td>0.092492</td>\n",
       "      <td>0.092927</td>\n",
       "      <td>0.092492</td>\n",
       "      <td>0.092492</td>\n",
       "      <td>73449600</td>\n",
       "      <td>0.0</td>\n",
       "      <td>0.0</td>\n",
       "    </tr>\n",
       "  </tbody>\n",
       "</table>\n",
       "</div>"
      ],
      "text/plain": [
       "                Open      High       Low     Close     Volume  Dividends  \\\n",
       "Date                                                                       \n",
       "1980-12-12  0.099874  0.100308  0.099874  0.099874  469033600        0.0   \n",
       "1980-12-15  0.095098  0.095098  0.094663  0.094663  175884800        0.0   \n",
       "1980-12-16  0.088149  0.088149  0.087715  0.087715  105728000        0.0   \n",
       "1980-12-17  0.089886  0.090320  0.089886  0.089886   86441600        0.0   \n",
       "1980-12-18  0.092492  0.092927  0.092492  0.092492   73449600        0.0   \n",
       "\n",
       "            Stock Splits  \n",
       "Date                      \n",
       "1980-12-12           0.0  \n",
       "1980-12-15           0.0  \n",
       "1980-12-16           0.0  \n",
       "1980-12-17           0.0  \n",
       "1980-12-18           0.0  "
      ]
     },
     "execution_count": 12,
     "metadata": {},
     "output_type": "execute_result"
    }
   ],
   "source": [
    "apple_shares_history_data.head()"
   ]
  },
  {
   "cell_type": "markdown",
   "id": "7fabd3f6",
   "metadata": {},
   "source": [
    "We can reset the index of the DataFrame with the reset_index function. We also set the inplace paramter to True so the change takes place to the DataFrame itself."
   ]
  },
  {
   "cell_type": "code",
   "execution_count": 14,
   "id": "ac4e7926",
   "metadata": {},
   "outputs": [],
   "source": [
    "apple_shares_history_data.reset_index(inplace = True)"
   ]
  },
  {
   "cell_type": "markdown",
   "id": "c3c08d9e",
   "metadata": {},
   "source": [
    "We can plot the Open price against the Date:"
   ]
  },
  {
   "cell_type": "code",
   "execution_count": 16,
   "id": "9c820309",
   "metadata": {},
   "outputs": [
    {
     "data": {
      "text/plain": [
       "<AxesSubplot:xlabel='Date'>"
      ]
     },
     "execution_count": 16,
     "metadata": {},
     "output_type": "execute_result"
    },
    {
     "data": {
      "image/png": "[encoded data removed]",
      "text/plain": [
       "<Figure size 432x288 with 1 Axes>"
      ]
     },
     "metadata": {
      "needs_background": "light"
     },
     "output_type": "display_data"
    }
   ],
   "source": [
    "apple_shares_history_data.plot(x = 'Date',y = 'Open')"
   ]
  },
  {
   "cell_type": "markdown",
   "id": "48c768b6",
   "metadata": {},
   "source": [
    "# Extracting Dividends"
   ]
  },
  {
   "cell_type": "markdown",
   "id": "f3fb5409",
   "metadata": {},
   "source": [
    "Dividends are the distribution of a companys profits to shareholders. In this case they are defined as an amount of money returned per share an investor owns. Using the variable dividends we can get a dataframe of the data. The period of the data is given by the period defined in the 'history` function."
   ]
  },
  {
   "cell_type": "code",
   "execution_count": 17,
   "id": "fc4280da",
   "metadata": {},
   "outputs": [
    {
     "data": {
      "text/plain": [
       "Date\n",
       "1987-05-11    0.000536\n",
       "1987-08-10    0.000536\n",
       "1987-11-17    0.000714\n",
       "1988-02-12    0.000714\n",
       "1988-05-16    0.000714\n",
       "                ...   \n",
       "2021-11-05    0.220000\n",
       "2022-02-04    0.220000\n",
       "2022-05-06    0.230000\n",
       "2022-08-05    0.230000\n",
       "2022-11-04    0.230000\n",
       "Name: Dividends, Length: 77, dtype: float64"
      ]
     },
     "execution_count": 17,
     "metadata": {},
     "output_type": "execute_result"
    }
   ],
   "source": [
    "apple.dividends"
   ]
  },
  {
   "cell_type": "code",
   "execution_count": 18,
   "id": "5a567012",
   "metadata": {},
   "outputs": [
    {
     "data": {
      "text/plain": [
       "<AxesSubplot:xlabel='Date'>"
      ]
     },
     "execution_count": 18,
     "metadata": {},
     "output_type": "execute_result"
    },
    {
     "data": {
      "image/png": "[encoded data removed]",
      "text/plain": [
       "<Figure size 432x288 with 1 Axes>"
      ]
     },
     "metadata": {
      "needs_background": "light"
     },
     "output_type": "display_data"
    }
   ],
   "source": [
    "apple.dividends.plot()"
   ]
  },
  {
   "cell_type": "code",
   "execution_count": 19,
   "id": "04d6ac65",
   "metadata": {},
   "outputs": [],
   "source": [
    "amd = yf.Ticker(\"AMD\")"
   ]
  },
  {
   "cell_type": "code",
   "execution_count": 20,
   "id": "315f1e66",
   "metadata": {},
   "outputs": [
    {
     "data": {
      "text/plain": [
       "{'zip': '95054',\n",
       " 'sector': 'Technology',\n",
       " 'fullTimeEmployees': 15500,\n",
       " 'longBusinessSummary': 'Advanced Micro Devices, Inc. operates as a semiconductor company worldwide. The company operates in two segments, Computing and Graphics; and Enterprise, Embedded and Semi-Custom. Its products include x86 microprocessors as an accelerated processing unit, chipsets, discrete and integrated graphics processing units (GPUs), data center and professional GPUs, and development services; and server and embedded processors, and semi-custom System-on-Chip (SoC) products, development services, and technology for game consoles. The company provides processors for desktop and notebook personal computers under the AMD Ryzen, AMD Ryzen PRO, Ryzen Threadripper, Ryzen Threadripper PRO, AMD Athlon, AMD Athlon PRO, AMD FX, AMD A-Series, and AMD PRO A-Series processors brands; discrete GPUs for desktop and notebook PCs under the AMD Radeon graphics, AMD Embedded Radeon graphics brands; and professional graphics products under the AMD Radeon Pro and AMD FirePro graphics brands. It also offers Radeon Instinct, Radeon PRO V-series, and AMD Instinct accelerators for servers; chipsets under the AMD trademark; microprocessors for servers under the AMD EPYC; embedded processor solutions under the AMD Athlon, AMD Geode, AMD Ryzen, AMD EPYC, AMD R-Series, and G-Series processors brands; and customer-specific solutions based on AMD CPU, GPU, and multi-media technologies, as well as semi-custom SoC products. It serves original equipment manufacturers, public cloud service providers, original design manufacturers, system integrators, independent distributors, online retailers, and add-in-board manufacturers through its direct sales force, independent distributors, and sales representatives. The company was incorporated in 1969 and is headquartered in Santa Clara, California.',\n",
       " 'city': 'Santa Clara',\n",
       " 'phone': '408 749 4000',\n",
       " 'state': 'CA',\n",
       " 'country': 'United States',\n",
       " 'companyOfficers': [],\n",
       " 'website': 'https://www.amd.com',\n",
       " 'maxAge': 1,\n",
       " 'address1': '2485 Augustine Drive',\n",
       " 'industry': 'Semiconductors',\n",
       " 'ebitdaMargins': 0.24299,\n",
       " 'profitMargins': 0.09957,\n",
       " 'grossMargins': 0.5095,\n",
       " 'operatingCashflow': 3820000000,\n",
       " 'revenueGrowth': 0.29,\n",
       " 'operatingMargins': 0.13085,\n",
       " 'ebitda': 5546999808,\n",
       " 'targetLowPrice': 60,\n",
       " 'recommendationKey': 'buy',\n",
       " 'grossProfits': 7929000000,\n",
       " 'freeCashflow': 4550750208,\n",
       " 'targetMedianPrice': 85,\n",
       " 'currentPrice': 72.37,\n",
       " 'earningsGrowth': -0.947,\n",
       " 'currentRatio': 2.155,\n",
       " 'returnOnAssets': 0.047280002,\n",
       " 'numberOfAnalystOpinions': 38,\n",
       " 'targetMeanPrice': 91.77,\n",
       " 'debtToEquity': 5.299,\n",
       " 'returnOnEquity': 0.073699996,\n",
       " 'targetHighPrice': 200,\n",
       " 'totalCash': 5591000064,\n",
       " 'totalDebt': 2889999872,\n",
       " 'totalRevenue': 22827999232,\n",
       " 'totalCashPerShare': 3.468,\n",
       " 'financialCurrency': 'USD',\n",
       " 'revenuePerShare': 15.646,\n",
       " 'quickRatio': 1.484,\n",
       " 'recommendationMean': 2,\n",
       " 'exchange': 'NMS',\n",
       " 'shortName': 'Advanced Micro Devices, Inc.',\n",
       " 'longName': 'Advanced Micro Devices, Inc.',\n",
       " 'exchangeTimezoneName': 'America/New_York',\n",
       " 'exchangeTimezoneShortName': 'EST',\n",
       " 'isEsgPopulated': False,\n",
       " 'gmtOffSetMilliseconds': '-18000000',\n",
       " 'quoteType': 'EQUITY',\n",
       " 'symbol': 'AMD',\n",
       " 'messageBoardId': 'finmb_168864',\n",
       " 'market': 'us_market',\n",
       " 'annualHoldingsTurnover': None,\n",
       " 'enterpriseToRevenue': 4.993,\n",
       " 'beta3Year': None,\n",
       " 'enterpriseToEbitda': 20.549,\n",
       " '52WeekChange': -0.5059731,\n",
       " 'morningStarRiskRating': None,\n",
       " 'forwardEps': 3.66,\n",
       " 'revenueQuarterlyGrowth': None,\n",
       " 'sharesOutstanding': 1612359936,\n",
       " 'fundInceptionDate': None,\n",
       " 'annualReportExpenseRatio': None,\n",
       " 'totalAssets': None,\n",
       " 'bookValue': 33.835,\n",
       " 'sharesShort': 32943648,\n",
       " 'sharesPercentSharesOut': 0.020399999,\n",
       " 'fundFamily': None,\n",
       " 'lastFiscalYearEnd': 1640390400,\n",
       " 'heldPercentInstitutions': 0.67855,\n",
       " 'netIncomeToCommon': 2272999936,\n",
       " 'trailingEps': 1.72,\n",
       " 'lastDividendValue': None,\n",
       " 'SandP52WeekChange': -0.14731997,\n",
       " 'priceToBook': 2.1389096,\n",
       " 'heldPercentInsiders': 0.00348,\n",
       " 'nextFiscalYearEnd': 1703462400,\n",
       " 'yield': None,\n",
       " 'mostRecentQuarter': 1663977600,\n",
       " 'shortRatio': 0.35,\n",
       " 'sharesShortPreviousMonthDate': 1664496000,\n",
       " 'floatShares': 1603326967,\n",
       " 'beta': 1.947406,\n",
       " 'enterpriseValue': 113985216512,\n",
       " 'priceHint': 2,\n",
       " 'threeYearAverageReturn': None,\n",
       " 'lastSplitDate': 966902400,\n",
       " 'lastSplitFactor': '2:1',\n",
       " 'legalType': None,\n",
       " 'lastDividendDate': None,\n",
       " 'morningStarOverallRating': None,\n",
       " 'earningsQuarterlyGrowth': -0.928,\n",
       " 'priceToSalesTrailing12Months': 5.111552,\n",
       " 'dateShortInterest': 1667174400,\n",
       " 'pegRatio': 1.16,\n",
       " 'ytdReturn': None,\n",
       " 'forwardPE': 19.773224,\n",
       " 'lastCapGain': None,\n",
       " 'shortPercentOfFloat': 0.020499999,\n",
       " 'sharesShortPriorMonth': 32224203,\n",
       " 'impliedSharesOutstanding': 0,\n",
       " 'category': None,\n",
       " 'fiveYearAverageReturn': None,\n",
       " 'previousClose': 68.47,\n",
       " 'regularMarketOpen': 69.58,\n",
       " 'twoHundredDayAverage': 90.86045,\n",
       " 'trailingAnnualDividendYield': 0,\n",
       " 'payoutRatio': 0,\n",
       " 'volume24Hr': None,\n",
       " 'regularMarketDayHigh': 73.32,\n",
       " 'navPrice': None,\n",
       " 'averageDailyVolume10Day': 90102320,\n",
       " 'regularMarketPreviousClose': 68.47,\n",
       " 'fiftyDayAverage': 66.5468,\n",
       " 'trailingAnnualDividendRate': 0,\n",
       " 'open': 69.58,\n",
       " 'toCurrency': None,\n",
       " 'averageVolume10days': 90102320,\n",
       " 'expireDate': None,\n",
       " 'algorithm': None,\n",
       " 'dividendRate': None,\n",
       " 'exDividendDate': 798940800,\n",
       " 'circulatingSupply': None,\n",
       " 'startDate': None,\n",
       " 'regularMarketDayLow': 68.29,\n",
       " 'currency': 'USD',\n",
       " 'trailingPE': 42.07558,\n",
       " 'regularMarketVolume': 111709462,\n",
       " 'lastMarket': None,\n",
       " 'maxSupply': None,\n",
       " 'openInterest': None,\n",
       " 'marketCap': 116686495744,\n",
       " 'volumeAllCurrencies': None,\n",
       " 'strikePrice': None,\n",
       " 'averageVolume': 82631210,\n",
       " 'dayLow': 68.29,\n",
       " 'ask': 74,\n",
       " 'askSize': 1800,\n",
       " 'volume': 111709462,\n",
       " 'fiftyTwoWeekHigh': 164.46,\n",
       " 'fromCurrency': None,\n",
       " 'fiveYearAvgDividendYield': None,\n",
       " 'fiftyTwoWeekLow': 54.57,\n",
       " 'bid': 74.2,\n",
       " 'tradeable': False,\n",
       " 'dividendYield': None,\n",
       " 'bidSize': 3100,\n",
       " 'dayHigh': 73.32,\n",
       " 'coinMarketCapLink': None,\n",
       " 'regularMarketPrice': 72.37,\n",
       " 'preMarketPrice': 73.99,\n",
       " 'logo_url': 'https://logo.clearbit.com/amd.com'}"
      ]
     },
     "execution_count": 20,
     "metadata": {},
     "output_type": "execute_result"
    }
   ],
   "source": [
    "amd_info = amd.info\n",
    "amd_info"
   ]
  },
  {
   "cell_type": "code",
   "execution_count": 21,
   "id": "945d0749",
   "metadata": {},
   "outputs": [
    {
     "data": {
      "text/plain": [
       "'United States'"
      ]
     },
     "execution_count": 21,
     "metadata": {},
     "output_type": "execute_result"
    }
   ],
   "source": [
    "amd_info['country']"
   ]
  },
  {
   "cell_type": "code",
   "execution_count": 22,
   "id": "0d9e6b37",
   "metadata": {},
   "outputs": [
    {
     "data": {
      "text/plain": [
       "'Technology'"
      ]
     },
     "execution_count": 22,
     "metadata": {},
     "output_type": "execute_result"
    }
   ],
   "source": [
    "amd_info['sector']"
   ]
  },
  {
   "cell_type": "code",
   "execution_count": 23,
   "id": "de7b3051",
   "metadata": {},
   "outputs": [],
   "source": [
    "amd_shares_history_data = amd.history(period = 'max')"
   ]
  },
  {
   "cell_type": "code",
   "execution_count": 24,
   "id": "932a0c3d",
   "metadata": {},
   "outputs": [
    {
     "data": {
      "text/html": [
       "<div>\n",
       "<style scoped>\n",
       "    .dataframe tbody tr th:only-of-type {\n",
       "        vertical-align: middle;\n",
       "    }\n",
       "\n",
       "    .dataframe tbody tr th {\n",
       "        vertical-align: top;\n",
       "    }\n",
       "\n",
       "    .dataframe thead th {\n",
       "        text-align: right;\n",
       "    }\n",
       "</style>\n",
       "<table border=\"1\" class=\"dataframe\">\n",
       "  <thead>\n",
       "    <tr style=\"text-align: right;\">\n",
       "      <th></th>\n",
       "      <th>Open</th>\n",
       "      <th>High</th>\n",
       "      <th>Low</th>\n",
       "      <th>Close</th>\n",
       "      <th>Volume</th>\n",
       "      <th>Dividends</th>\n",
       "      <th>Stock Splits</th>\n",
       "    </tr>\n",
       "    <tr>\n",
       "      <th>Date</th>\n",
       "      <th></th>\n",
       "      <th></th>\n",
       "      <th></th>\n",
       "      <th></th>\n",
       "      <th></th>\n",
       "      <th></th>\n",
       "      <th></th>\n",
       "    </tr>\n",
       "  </thead>\n",
       "  <tbody>\n",
       "    <tr>\n",
       "      <th>1980-03-17</th>\n",
       "      <td>0.0</td>\n",
       "      <td>3.302083</td>\n",
       "      <td>3.125000</td>\n",
       "      <td>3.145833</td>\n",
       "      <td>219600</td>\n",
       "      <td>0</td>\n",
       "      <td>0.0</td>\n",
       "    </tr>\n",
       "    <tr>\n",
       "      <th>1980-03-18</th>\n",
       "      <td>0.0</td>\n",
       "      <td>3.125000</td>\n",
       "      <td>2.937500</td>\n",
       "      <td>3.031250</td>\n",
       "      <td>727200</td>\n",
       "      <td>0</td>\n",
       "      <td>0.0</td>\n",
       "    </tr>\n",
       "    <tr>\n",
       "      <th>1980-03-19</th>\n",
       "      <td>0.0</td>\n",
       "      <td>3.083333</td>\n",
       "      <td>3.020833</td>\n",
       "      <td>3.041667</td>\n",
       "      <td>295200</td>\n",
       "      <td>0</td>\n",
       "      <td>0.0</td>\n",
       "    </tr>\n",
       "    <tr>\n",
       "      <th>1980-03-20</th>\n",
       "      <td>0.0</td>\n",
       "      <td>3.062500</td>\n",
       "      <td>3.010417</td>\n",
       "      <td>3.010417</td>\n",
       "      <td>159600</td>\n",
       "      <td>0</td>\n",
       "      <td>0.0</td>\n",
       "    </tr>\n",
       "    <tr>\n",
       "      <th>1980-03-21</th>\n",
       "      <td>0.0</td>\n",
       "      <td>3.020833</td>\n",
       "      <td>2.906250</td>\n",
       "      <td>2.916667</td>\n",
       "      <td>130800</td>\n",
       "      <td>0</td>\n",
       "      <td>0.0</td>\n",
       "    </tr>\n",
       "  </tbody>\n",
       "</table>\n",
       "</div>"
      ],
      "text/plain": [
       "            Open      High       Low     Close  Volume  Dividends  \\\n",
       "Date                                                                \n",
       "1980-03-17   0.0  3.302083  3.125000  3.145833  219600          0   \n",
       "1980-03-18   0.0  3.125000  2.937500  3.031250  727200          0   \n",
       "1980-03-19   0.0  3.083333  3.020833  3.041667  295200          0   \n",
       "1980-03-20   0.0  3.062500  3.010417  3.010417  159600          0   \n",
       "1980-03-21   0.0  3.020833  2.906250  2.916667  130800          0   \n",
       "\n",
       "            Stock Splits  \n",
       "Date                      \n",
       "1980-03-17           0.0  \n",
       "1980-03-18           0.0  \n",
       "1980-03-19           0.0  \n",
       "1980-03-20           0.0  \n",
       "1980-03-21           0.0  "
      ]
     },
     "execution_count": 24,
     "metadata": {},
     "output_type": "execute_result"
    }
   ],
   "source": [
    "amd_shares_history_data.head()"
   ]
  },
  {
   "cell_type": "code",
   "execution_count": null,
   "id": "41f8b42f",
   "metadata": {},
   "outputs": [],
   "source": []
  }
 ],
 "metadata": {
  "kernelspec": {
   "display_name": "Python 3",
   "language": "python",
   "name": "python3"
  },
  "language_info": {
   "codemirror_mode": {
    "name": "ipython",
    "version": 3
   },
   "file_extension": ".py",
   "mimetype": "text/x-python",
   "name": "python",
   "nbconvert_exporter": "python",
   "pygments_lexer": "ipython3",
   "version": "3.8.8"
  }
 },
 "nbformat": 4,
 "nbformat_minor": 5
}
